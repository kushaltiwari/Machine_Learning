{
 "cells": [
  {
   "cell_type": "markdown",
   "metadata": {},
   "source": [
    "# Gradient Descent to find Line of Best Fit"
   ]
  },
  {
   "cell_type": "markdown",
   "metadata": {},
   "source": [
    "### Find the line of Best-Fit\n",
    "\n",
    "The equation of the multi regression line is given by\n",
    "\n",
    "\\begin{equation}\n",
    " \\mathbf{\\hat{y}}_{i}= \\sum_{j=1}^{p} \\mathbf{\\alpha}_{j} \\cdot \\mathbf{X}_{ij} + \\beta  \\quad \\quad i = 1,2 \\dots n\n",
    "\\end{equation}\n",
    "where,\n",
    "> $\\hat{y}_{i}$ is the estimated value of $i^{th}$ observation  <br>\n",
    "> $X_{ij}$ is the $j^{th}$ predictor for the $i^{th}$ observation <br>\n",
    "> $\\alpha_{j}$ is the slope of the line made by $j^{th}$ predictor <br>\n",
    "> $\\beta$ is the y-intercept <br>\n",
    "\n",
    "The equation comprises of $n$ observations of 1 dependent variable $y$ and $p$ independent variables $X$. The matrix form of each component would look like\n",
    "\n",
    "- Observations\n",
    "\\begin{equation}\n",
    "    \\mathbf{y}_{i} = [y_{1}, y_{2}, y_{3}, \\dots, y_{n}]^T\n",
    "\\end{equation}\n",
    "\n",
    "- Predictors\n",
    "\\begin{equation}\n",
    "\\mathbf{X}_{i,j} = \\begin{vmatrix}\n",
    "    x_{1,1} & x_{1,2} & x_{1,3} & \\ldots & x_{1,n} \\\\\n",
    "    x_{2,1} & x_{2,2} & x_{2,3} & \\ldots & x_{2,n} \\\\\n",
    "    \\vdots  & \\vdots  & \\vdots  & \\ddots & \\vdots \\\\\n",
    "    x_{p,1} & x_{p,2} & x_{p,3} & \\ldots & x_{p,n} \\\\\n",
    "    \\end{vmatrix}\n",
    "\\end{equation}\n",
    "- Slopes\n",
    "\\begin{equation}\n",
    "    \\mathbf{\\alpha}_{j} = [\\alpha_{1}, \\alpha_{2}, \\alpha_{3}, \\dots, \\alpha_{p}]\n",
    "\\end{equation}  "
   ]
  },
  {
   "cell_type": "markdown",
   "metadata": {},
   "source": [
    "# Objective of Line of Best Fit\n",
    "\n",
    "Assume $p=1$ for simplicity. i.e. we have only one independent variable. Thereby we reduce the slope expression to $\\alpha$ as we have only one predictor (There is only one slope for one independent variable, hence it doesn't need indexing).\n",
    "We need the values of Slope ($\\mathbf{\\alpha}$) and y-intercept ($\\beta$) to determine equation of the line of best fit. The values of slope and y-intercept should be chosen in such a way that it minimizes the sum of squared deviation between the each observed and estimated value of $y$ (line of bets fit) is minimized. This sum of squared deivation is the error ($e$) we want to minimize as much as possible OR the perpecdicular distance between each observed point and line of best fit is as small as possible.\n",
    "\n",
    "Therefore, minimize the error function and determine the best possible values of Slope ($\\beta$) and y-intercept ($\\beta_{0}$) that is used to build a regression equation using these slope and y-intercept.\n",
    "\n",
    "\\begin{equation}\n",
    "    \\begin{aligned}\n",
    "         & \\underset{\\alpha, \\quad \\beta}{minimize} \\quad \\sum_{i=0}^{n} ((\\alpha \\cdot \\mathbf{x}_{i}+\\beta) - \\mathbf{y}_{i})^{2}  \\\\\n",
    "         & \\underset{\\alpha, \\quad \\beta}{minimize} \\quad \\sum_{i=0}^{n} (\\mathbf{\\hat{y}}_{i} - \\mathbf{y}_{i})^{2}  \\\\\n",
    "         & \\underset{\\alpha, \\quad \\beta}{minimize} \\quad \\sum_{i=0}^{n} (\\mathbf{e}_{i})^{2}\n",
    "     \\end{aligned}\n",
    "\\end{equation}    \n",
    "\n"
   ]
  },
  {
   "cell_type": "markdown",
   "metadata": {},
   "source": [
    "## 1. Regression Way\n",
    "\n",
    "### 1.1 y-intercept\n",
    "\n",
    "\\begin{equation}\n",
    "    \\beta = \\alpha \\cdot \\bar{x} + \\bar{y}\n",
    "\\end{equation}    \n",
    "\n",
    "where,\n",
    "> $\\bar{x}$ is the mean of independent variable $\\mathbf{x}$ <br>\n",
    "> $\\bar{y}$ is the mean of independent variable $\\mathbf{y}$\n",
    "\n",
    "This means the regression line passes through the center of gravity ($\\bar{x}$, $\\bar{y}$) of scattered data points. The above equation yields <br><br>\n",
    "<center>If $x_{i} = 0$, then $y_{i}=\\bar{y}$</center>\n",
    "\n",
    "\n",
    "### 1.2 Slope\n",
    "\n",
    "\\begin{equation}\n",
    "    \\alpha = \\frac{\\sum_{i=1}^{n} (\\mathbf{x}_{i} - \\bar{x})(\\mathbf{y}_{i} - \\bar{y}) }{\\sum_{i=1}^{n}(\\mathbf{x}_{i} - \\bar{x})^2 }\n",
    "\\end{equation} \n",
    "\n",
    "In the above equation:\n",
    "\n",
    "    Numerator: Covariance between the variables x and y.\n",
    "    Denominator: Variance of x.\n",
    "    \n",
    "The slope equation tells us that how much variation in the distribution of ($x, y$) is accounted by the variation in distribution of ($x$). The variability in ($x,y$) distribution expalined by variability in ($x$). Therefore the regression line tries to predict the value $y$ given $x$ on the basis of their variability. Slope is the factor that does this prediction.\n",
    "    "
   ]
  },
  {
   "cell_type": "markdown",
   "metadata": {},
   "source": [
    "## 2. Gradient Descent Way\n",
    "\n",
    "\n",
    "### The Gradient Descent equation\n",
    "\n",
    "\\begin{equation}\n",
    "\\label{eq:sample}\n",
    "\\begin{aligned}\n",
    "     x_{i+1} & = x_{i} - \\alpha \\cdot f^{\\prime}(x_{i})  \\\\ \n",
    "\\end{aligned}\n",
    "\\end{equation}\n",
    "\n",
    "where,\n",
    "> $x_{i+1}$ is the next guess that is closer to the minimum <br>\n",
    "> $x_{i}$ is the initial guess <br>\n",
    "> $\\alpha$ is the step length <br>\n",
    "> $f^{\\prime}(x_{i})$ is the derivative of the function f at point $x_{i}$\n",
    "\n",
    "\n",
    "### The objective of Line of Best Fit (Cost Function)\n",
    "\n",
    "\\begin{equation}\n",
    "   \\underset{\\alpha, \\quad \\beta}{minimize} \\quad \\sum_{i=0}^{n} ((\\alpha \\cdot \\mathbf{x}_{i}+\\beta) - \\mathbf{y}_{i})^{2}\n",
    "\\end{equation}    \n",
    "\n",
    "\n",
    "### Formulate Line of Best Fit Problem in form of Gradient Descent\n",
    "\n",
    "We'll use $s$ to denote the step function of gradient descent.\n",
    "\n",
    "\\begin{equation}\n",
    "   \\begin{vmatrix}\n",
    "       \\alpha_{i+1} \\\\\n",
    "       \\beta_{i+1}\n",
    "   \\end{vmatrix} = \\begin{vmatrix}\n",
    "                       \\alpha_{i} \\\\\n",
    "                       \\beta_{i}\n",
    "                   \\end{vmatrix}  - s \\cdot \\begin{vmatrix}\n",
    "                                               \\frac{d}{d\\alpha} \\alpha_{i} \\\\\n",
    "                                               \\frac{d}{d\\beta} \\beta_{i}\n",
    "                                             \\end{vmatrix}                         \n",
    "\\end{equation} \n",
    "\n",
    "      DERIVATIVES\n",
    "      \n",
    "\\begin{equation}\n",
    "  f(\\alpha, \\beta) = \\sum_{i=0}^{n} ((\\alpha \\cdot \\mathbf{x}_{i}+\\beta) - \\mathbf{y}_{i})^{2}\n",
    "\\end{equation} \n",
    "\n",
    "Note: The cost function is a quadratic function.\n",
    "      \n",
    "\\begin{equation}\n",
    "  \\frac{d}{d\\alpha} = 2\\sum_{i=1}^{n} ((\\alpha \\cdot \\mathbf{x}_{i}+\\beta) - \\mathbf{y}_{i}) \\cdot x_{i}\n",
    "\\end{equation}    \n",
    "\n",
    "\\begin{equation}\n",
    "  \\frac{d}{d\\beta} = 2\\sum_{i=1}^{n} ((\\alpha \\cdot \\mathbf{x}_{i}+\\beta) - \\mathbf{y}_{i})\n",
    "\\end{equation}   \n"
   ]
  },
  {
   "cell_type": "markdown",
   "metadata": {},
   "source": [
    "## ALGORITHM\n",
    "\n",
    "1. Identify independent varuiable ($x$) and dependent variable ($y$) in the dataset.\n",
    "2. Choose the initial slope $\\alpha_{0}$, y-intercept $\\beta_{0}$, step function $s$, $\\epsilon$ and MAX_ITER.\n",
    "3. Calculate:\n",
    ">3.1 The current objective magnitude $f(\\alpha_{i}, \\beta_{i})$. <br>\n",
    ">3.2 The derivatives $f^{\\prime} (\\alpha)$  and $f^{\\prime} (\\beta)$. <br>\n",
    ">3.3 Solve for $\\alpha_{i+1}$ and $\\beta_{i+1}$. <br> \n",
    ">3.4 The new objective magnitude $f(\\alpha_{i+1}, \\beta_{i+1})$ using $\\alpha_{i+1}$ and $\\beta_{i+1}$.\n",
    "\n",
    "4. Check if the objective is increasing ($f(\\alpha_{i+1}, \\beta_{i+1})$ > $f(\\alpha_{i}, \\beta_{i})$).\n",
    ">4.1 If yes, reduce step function ($s$). Repeat from 3. <br>\n",
    ">4.2 If No, Update $\\alpha_{i}$ as $\\alpha_{i} = \\alpha_{i+1}$ and update $\\beta_{i}$ as $\\beta_{i} = \\beta_{i+1}$. Repeat from 3. \n",
    "\n",
    "5. Check if $|f(\\alpha_{i}, \\beta_{i}) - f(\\alpha_{i+1}, \\beta_{i+1})| < \\epsilon$ where epsilon is the difference between the two values that is acceptable for convergence.\n",
    ">5.1 If converged, $\\alpha_{i}$ and $\\beta_{i}$ are values that best minimizes the cost function $f(\\alpha, \\beta)$ and gives the best possible values of slope and y-intercept for the line of best fit. <br>\n",
    "\n",
    "The algorithm converges when $\\alpha$ and $\\beta$ gives the minimum value of the cost function $f(\\alpha, \\beta)$ for small enough $s$."
   ]
  },
  {
   "cell_type": "code",
   "execution_count": 1,
   "metadata": {},
   "outputs": [],
   "source": [
    "# IMPORT\n",
    "import numpy as np\n",
    "import pandas as pd\n",
    "from scipy import stats\n",
    "from matplotlib import pyplot as plt"
   ]
  },
  {
   "cell_type": "code",
   "execution_count": 2,
   "metadata": {},
   "outputs": [],
   "source": [
    "# Dataset\n",
    "#data = pd.read_csv('D:/Briefcase/Files/Development/Python/Dataset/regression/train.csv') \n",
    "# Create X and y variables\n",
    "#X = data.iloc[:,0]\n",
    "#y = data.iloc[:,1]\n",
    "#N = X.size\n",
    "\n",
    "# Data 1\n",
    "# X = np.array([24, 50, 15, 38, 87, 36])\n",
    "# y = np.array([21.54, 47.46, 17.21, 36.58, 87.28, 32.46])\n",
    "\n",
    "# Data 2\n",
    "X = np.array([1, 2, 2, 3])\n",
    "y = np.array([1, 1, 2, 2])\n",
    "\n",
    "# Initialization\n",
    "step_function_initial = 0.2\n",
    "epsilon = 1e-5\n",
    "alpha_beta_initial = np.array([1, 1]) # (\\alpha, \\beta)\n",
    "MAX_ITER = 500\n",
    "\n",
    "# Plot Variables\n",
    "global store_alpha_beta"
   ]
  },
  {
   "cell_type": "code",
   "execution_count": 3,
   "metadata": {},
   "outputs": [],
   "source": [
    "# Determine Objective Function\n",
    "def get_objective(alpha, beta):\n",
    "    return sum((y - (alpha * X + beta))**2) "
   ]
  },
  {
   "cell_type": "code",
   "execution_count": 4,
   "metadata": {},
   "outputs": [],
   "source": [
    "# Predict y\n",
    "def predict_y(alpha, beta):\n",
    "    return alpha*X + beta"
   ]
  },
  {
   "cell_type": "code",
   "execution_count": 5,
   "metadata": {},
   "outputs": [],
   "source": [
    "# Calculate Derivates\n",
    "def get_derivative(alpha, beta):\n",
    "    dalpha = 2*sum(( (X*alpha) + beta - y ) * X)\n",
    "    dbeta = 2*sum( (X *alpha) + beta - y )\n",
    "    return np.array([dalpha, dbeta])"
   ]
  },
  {
   "cell_type": "code",
   "execution_count": 6,
   "metadata": {},
   "outputs": [],
   "source": [
    "# alculate Initial Objective\n",
    "objective_initial = get_objective(alpha_beta_initial[0], alpha_beta_initial[1])\n",
    "\n",
    "# Solve for alpha and beta\n",
    "def minimize_cost_function():\n",
    "    global store_alpha_beta\n",
    "    store_alpha_beta = []\n",
    "    main_iter = 0\n",
    "    alpha_beta_current = alpha_beta_initial\n",
    "    step_function = step_function_initial\n",
    "          \n",
    "    while(main_iter < MAX_ITER):\n",
    "        main_iter += 1\n",
    "            \n",
    "        # Calculate Objective Function\n",
    "        objective_current = get_objective(alpha_beta_current[0], alpha_beta_current[1])            \n",
    "            \n",
    "        # Calculate Derivatives\n",
    "        dalpha_dbeta = get_derivative(alpha_beta_current[0], alpha_beta_current[1])\n",
    "        alpha_beta_new = alpha_beta_current - step_function*dalpha_dbeta\n",
    "        # print(alpha_beta_current[0], alpha_beta_current[1], 'Derivative', dalpha_dbeta[0], dalpha_dbeta[1])\n",
    "            \n",
    "        # Calculate updated Objective Function\n",
    "        objective_new = get_objective(alpha_beta_new[0], alpha_beta_new[1])\n",
    "            \n",
    "        # Check if Objective Function is decreasing, Else decrease Step Function \n",
    "        if objective_new > objective_current:\n",
    "            step_function = step_function*0.95\n",
    "            continue\n",
    "        else:\n",
    "            alpha_beta_current = alpha_beta_new\n",
    "            store_alpha_beta.append(alpha_beta_current)\n",
    "                     \n",
    "        # Check for Convergence\n",
    "        convergence = abs(objective_current - objective_new) < epsilon   \n",
    "        if(convergence):\n",
    "            print('CONVERGED')\n",
    "            return alpha_beta_current[0], alpha_beta_current[1], step_function\n",
    "\n",
    "# Calculate Regression using scipy\n",
    "sci_slope, sci_intercept, r_value, p_value, std_err = stats.linregress(X,y)"
   ]
  },
  {
   "cell_type": "markdown",
   "metadata": {},
   "source": [
    "### Execute"
   ]
  },
  {
   "cell_type": "code",
   "execution_count": 7,
   "metadata": {
    "scrolled": true
   },
   "outputs": [
    {
     "name": "stdout",
     "output_type": "stream",
     "text": [
      "CONVERGED\n"
     ]
    }
   ],
   "source": [
    "# Run the Algorithm\n",
    "try:\n",
    "     slope, intercept, step_function = minimize_cost_function() \n",
    "except Exception as e:\n",
    "    print('Cannot converge within {0} iterations'.format(MAX_ITER), '\\nTry Reducing Epsilon or Increasing MAX_ITER')"
   ]
  },
  {
   "cell_type": "markdown",
   "metadata": {},
   "source": [
    "### Result"
   ]
  },
  {
   "cell_type": "code",
   "execution_count": 8,
   "metadata": {},
   "outputs": [
    {
     "name": "stdout",
     "output_type": "stream",
     "text": [
      "Initial Objective: 10\n",
      "Final Objective: 0.5001040236084676\n",
      "\n",
      "Calulated Slope: 0.500431290220179 / SCIPY Slope: 0.5\n",
      "Calulated Intercept: 0.5042278907058033 / SCIPY Intercept: 0.5\n",
      "\n",
      "Best Line Fit: y = 0.500431290220179 X + 0.5042278907058033\n",
      "\n",
      "Step Function 0.04518710819851311\n"
     ]
    },
    {
     "data": {
      "text/plain": [
       "[<matplotlib.lines.Line2D at 0x22ee13be5c0>]"
      ]
     },
     "execution_count": 8,
     "metadata": {},
     "output_type": "execute_result"
    },
    {
     "data": {
      "image/png": "[encoded data removed]",
      "text/plain": [
       "<matplotlib.figure.Figure at 0x22ee12cbb38>"
      ]
     },
     "metadata": {},
     "output_type": "display_data"
    }
   ],
   "source": [
    "# Calculate Objective Function\n",
    "objective_final = get_objective(slope, intercept)\n",
    "print('Initial Objective:', objective_initial)\n",
    "print('Final Objective:', objective_final)\n",
    "\n",
    "# SCIPY Comparison\n",
    "print('\\nCalulated Slope:', slope, '/' ,'SCIPY Slope:', sci_slope)\n",
    "print('Calulated Intercept:',intercept, '/', 'SCIPY Intercept:', sci_intercept)\n",
    "\n",
    "# Regression Line Equation\n",
    "print('\\nBest Line Fit: y = {0} X + {1}'.format(slope, intercept))\n",
    "\n",
    "# Step Function\n",
    "print('\\nStep Function', step_function)\n",
    "\n",
    "# Plot\n",
    "fig, ax = plt.subplots()\n",
    "# plt.rcParams.update({'lines.linewidth':2, 'lines.linestyle':'--'})\n",
    "ax.set(xlabel='X', ylabel='Y', title='Line of Best Fit')\n",
    "ax.scatter(X, y)\n",
    "for alpha_beta in store_alpha_beta:\n",
    "    ax.plot(X, predict_y(alpha_beta[0], alpha_beta[1]), color = 'c', linewidth = 1)\n",
    "ax.plot(X, predict_y(slope, intercept), color = 'r', linewidth = 2)"
   ]
  },
  {
   "cell_type": "code",
   "execution_count": null,
   "metadata": {},
   "outputs": [],
   "source": []
  }
 ],
 "metadata": {
  "kernelspec": {
   "display_name": "Python 3",
   "language": "python",
   "name": "python3"
  },
  "language_info": {
   "codemirror_mode": {
    "name": "ipython",
    "version": 3
   },
   "file_extension": ".py",
   "mimetype": "text/x-python",
   "name": "python",
   "nbconvert_exporter": "python",
   "pygments_lexer": "ipython3",
   "version": "3.6.4"
  }
 },
 "nbformat": 4,
 "nbformat_minor": 2
}
