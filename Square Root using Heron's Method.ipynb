{
 "cells": [
  {
   "cell_type": "markdown",
   "metadata": {},
   "source": [
    "# Square Root using Heron's Method"
   ]
  },
  {
   "cell_type": "markdown",
   "metadata": {},
   "source": [
    "Definition of square root:\n",
    "    \n",
    "\\begin{equation}\n",
    "    x^2 = x \\cdot x\n",
    "\\end{equation}\n",
    "\n",
    "Also known as Babylonian method or Hero's Method named after first-century Greek mathematician Hero of Alexandria. It is an iterative algorithm such that each instance of iteration solves the equation in form\n",
    "\n",
    "\\begin{equation}\n",
    "     x_{i+1} = \\frac{x_{i} + \\frac{y}{x_{i}}}{2}\n",
    "\\end{equation}\n",
    "where,\n",
    "> $y = x^2$ <br>\n",
    "> $ x_{i+1}$ is the average of $x_{i} + \\frac{y}{x_{i}}$\n",
    "\n",
    "\n",
    "At each iteration the averaging causes $x_{i}$ to decrease such that minimizing the error in estimation until $x_{i} \\approx x_{i+1}$. Here $\\frac{y}{x_{i}}$ is nothing but $x_{i}$ or $\\sqrt{y} = x_{i}$. Therefore the goal of iteration is to achieve the above equation in the form\n",
    "\n",
    "\\begin{equation}\n",
    "     x_{i+1} = \\frac{x_{i} + x_{i}}{2}\n",
    "\\end{equation}\n",
    "\n",
    "When the equation is obtained in above form, the $x$ values converges and $x_{i}$ is the square root of $y$."
   ]
  },
  {
   "cell_type": "markdown",
   "metadata": {},
   "source": [
    "### Algorithm to calculate square root using Heron's Method\n",
    "\n",
    "We have to calculate $x$ given $x^2$\n",
    "\n",
    "1. Get the value y = $x^2$\n",
    "2. Make the initial guess $x_{0}$; $x_{0} = (y + 1)/2$     \n",
    "3. Solve the equation $x_{i+1} = (x{i} + y / x_{i})/2$\n",
    "4. Check if $|x_{i}−x_{i+1}|<ϵ$  where epsilon is the difference between the two values that is acceptable for convergence. \n",
    "> 4.1 If converged, $x_{i}$ is the square root of $y$ <br>\n",
    "> 4.2 Else update $x_{i}$ as $x_{i} = x_{i+1}$. Repeat from step 3."
   ]
  },
  {
   "cell_type": "code",
   "execution_count": 34,
   "metadata": {},
   "outputs": [
    {
     "name": "stdout",
     "output_type": "stream",
     "text": [
      "x value at iteration # 1 -> 50001.24999500003\n",
      "x value at iteration # 2 -> 25002.624947501463\n",
      "x value at iteration # 3 -> 12505.312053803225\n",
      "x value at iteration # 4 -> 6260.652628631322\n",
      "x value at iteration # 5 -> 3146.299089988069\n",
      "x value at iteration # 6 -> 1604.9329187737915\n",
      "x value at iteration # 7 -> 864.7743595054892\n",
      "x value at iteration # 8 -> 548.0242808078497\n",
      "x value at iteration # 9 -> 456.48580717757346\n",
      "x value at iteration # 10 -> 447.30776481260983\n",
      "x value at iteration # 11 -> 447.21360541243894\n",
      "x value at iteration # 12 -> 447.21359549995805\n",
      "\n",
      "Square Root of 200000 is 447.21360541243894\n"
     ]
    }
   ],
   "source": [
    "# Initialize\n",
    "\n",
    "y = 400*500\n",
    "x_initial = (y+1)/2\n",
    "epsilon = 1e-5\n",
    "max_iter = 50\n",
    "iter = 1\n",
    "\n",
    "x_current = x_initial\n",
    "while(True):\n",
    "    x_new = (x_current + (y/x_current))/2\n",
    "    print('x value at iteration #', iter, '->' , x_new)\n",
    "    if (abs(x_current - x_new) < epsilon) or (iter > max_iter):\n",
    "        print('\\nSquare Root of {0} is {1}'.format(y, x_current))\n",
    "        break\n",
    "    x_current = x_new\n",
    "    iter = iter + 1"
   ]
  }
 ],
 "metadata": {
  "kernelspec": {
   "display_name": "Python 3",
   "language": "python",
   "name": "python3"
  },
  "language_info": {
   "codemirror_mode": {
    "name": "ipython",
    "version": 3
   },
   "file_extension": ".py",
   "mimetype": "text/x-python",
   "name": "python",
   "nbconvert_exporter": "python",
   "pygments_lexer": "ipython3",
   "version": "3.6.4"
  }
 },
 "nbformat": 4,
 "nbformat_minor": 2
}
