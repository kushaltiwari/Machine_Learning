{
 "cells": [
  {
   "cell_type": "markdown",
   "metadata": {},
   "source": [
    "# GRADIENT DESCENT"
   ]
  },
  {
   "cell_type": "code",
   "execution_count": 31,
   "metadata": {},
   "outputs": [],
   "source": [
    "import numpy as np\n",
    "from scipy.misc import derivative\n",
    "from matplotlib import pyplot as plt  "
   ]
  },
  {
   "cell_type": "markdown",
   "metadata": {},
   "source": [
    "# The objective of Gradient Descent is\n",
    "\n",
    "\\begin{equation}\n",
    "    \\underset{x}{minimize} \\quad f(x)\n",
    "\\end{equation}\n",
    "\n",
    "Determine the value of $x$ at which the value of $f(x)$ is minimum.\n"
   ]
  },
  {
   "cell_type": "markdown",
   "metadata": {},
   "source": [
    "## Our Goal is to calculate the minimum value of the function.\n",
    "\n",
    "Consider a Fucntion\n",
    "\n",
    "\\begin{equation}\n",
    "    y = x^2 - 2x + 2\n",
    "\\end{equation}\n",
    "\n",
    "\n",
    "### 1. Calculus Way\n",
    "     \n",
    "    Using calculus the minimum point can be determined as the point where derivative of the function is zero\n",
    "     \n",
    "\\begin{equation}\n",
    "\\begin{aligned}\n",
    "    \\frac{dy}{dx} & = 0 \\\\ \\\\\n",
    "    2 \\cdot x - 2 & = 0 \\\\ \\\\\n",
    "    x & = 1 \n",
    "\\end{aligned}\n",
    "\\end{equation}\n",
    "\n",
    "    The above equation states the minimum value of function y occurs at x = 1. Therefore get the minimum value of y by plugging x = 1 \n",
    "\n",
    "\\begin{equation}\n",
    "\\begin{aligned}\n",
    "   y & = x^2 - 2x + 2  \\\\ \\\\\n",
    "     & = 1 - 2 + 2 \\\\ \\\\\n",
    "     & = 1\n",
    "\\end{aligned}\n",
    "\\end{equation}\n",
    "\n",
    "Therefore the coordinate for the minimum value for the function f is (x=1 , y=1). Instead of calculus we will use steepest descent to determine the value of x at which y = 0.\n"
   ]
  },
  {
   "cell_type": "markdown",
   "metadata": {},
   "source": [
    " ### 2. Gradient Descent Way\n",
    "\n",
    "Choose a initial point of x to start descending from, x = 3\n",
    "\n",
    "    Take Derivative of the Function\n",
    "\n",
    "\\begin{equation}\n",
    "\\begin{aligned}\n",
    "    \\frac{dy}{dx} & = \\frac{d(x^2 + 2x + 1)}{dx} \\\\ \\\\\n",
    "     f^{\\prime}(y) & = 2x - 2\n",
    "\\end{aligned}\n",
    "\\end{equation}\n",
    "\n",
    "    Calculate the Derivative\n",
    "\n",
    "\\begin{equation}\n",
    "\\begin{aligned}\n",
    "     f^{\\prime} & = 2 \\cdot 3 - 2  \\\\ \\\\\n",
    "                & = 4\n",
    "\\end{aligned}\n",
    "\\end{equation}\n",
    "\n",
    "We know that the minimum of the function is not y = 4. So our initial approximation is wrong.\n",
    "\n",
    "The positive gradient or derivative shows the we need to move backward in x-axis (towards neagtive values) to reach the minimum value the function. On the other hand we need to move forward in x-axis (towards positive values), in case our derivative is minimum.   \n",
    "\n",
    "### Therefore, by studying the derivative of current guess, we can determine the direction whether we are getting closer or further from the minimum. \n",
    "\n",
    "\n",
    "## The equation is\n",
    "\n",
    "\\begin{equation}\n",
    "\\label{eq:sample}\n",
    "\\begin{aligned}\n",
    "     x_{i+1} & = x_{i} - \\alpha \\cdot f^{\\prime}(x_{i})  \\\\ \n",
    "\\end{aligned}\n",
    "\\end{equation}\n",
    "\n",
    "where,\n",
    "> $x_{i+1}$ is the next guess that is closer to the minimum <br>\n",
    "> $x_{i}$ is the initial guess <br>\n",
    "> $\\alpha$ is the step length <br>\n",
    "> $f^{\\prime}(x_{i})$ is the derivative of the function f at point $x_{i}$\n",
    "      \n",
    "The negative sign alows us to move towards downwards or to the minimum value. i.e. opposite direction of the derivate. If we were to find maximum value in a concave function, this sign would have been positive because we have to move in the same direction of the derivative.\n",
    "       \n",
    "       - If minimum -> Convex Function --> Move in opposite direction of gradient --> Negative Sign --> GRADIENT DESCENT \n",
    "       - If maximum -> Concave Function --> Move in same direction of gradient --> Positive Sign --> GRADIENT ASCENT\n",
    "      \n",
    "             \n",
    "### Alpha (Step Size) \n",
    "\n",
    "Provides the size of the jump.\n",
    "\n",
    "1. Large Alpha:\n",
    "    Gets to the solution faster but beacuse of big jump, it might skip the actual minimum point and just keep on jumping back and forth (overshoot) without actually converging. \n",
    "\n",
    "> Start from $\\alpha = 1$ and keep on reducing until the alpha is small enough for values to converge\n",
    "   "
   ]
  },
  {
   "cell_type": "markdown",
   "metadata": {},
   "source": [
    "### ALGORITHM:\n",
    "\n",
    "### The algorithm determines $x$ value and optimal step function $\\alpha$\n",
    "\n",
    "The above equation must be solved iteratively to reach the minimum value of $f(x)$ by updating $x_{i+1}$ at each iteration until the $x_{i+1} = x_{i}$.  Intuitively this is the minimum point because the derivative at this point is 0 or the rate of change of $f(x)$ with respect to $x$ at this point is 0 or $f^{\\prime}(x_{i})= 0$.\n",
    "\n",
    "1. Take the initial guess $x_{0}$, choose the inital step length $\\alpha_{0}$ and set max_iter as maximum iteration allowed\n",
    "2. Determine the derivative $f^{\\prime}(x_{0})$.\n",
    "3. Solve for $x_{i+1} = x_{i} - \\alpha \\cdot f^{\\prime}(x_{i})$\n",
    ">The above equation subtracts or adds the current $x$ value to the derivative to determine new $x_{i+1}$. Further, higher the gardient (derivative), larger the step it moves in $x$ axis. Step function is used to control this step.\n",
    "4. Check if  $|x_{i} - x_{i+1}| < \\epsilon$ where epsilon is the difference between the two values that is acceptable for convergence.\n",
    "    > 4.1. If converged, $x_{i}$ is the value of $x$ at which $y$ is minimum. <br>\n",
    "    > 4.2. Else Check if iteration has reached max_iter <br>\n",
    "            >> 4.2.1 If yes, Update $x_{i}$ as $x_{i} = x_{i+1}$ and increment iteration counter <br>\n",
    "            >> 4.2.2 Else, decrease $\\alpha$, reset increment counter ($i=0$), set $x_{i} = x_{0}$ and repeat from Step 2. \n",
    "\n",
    "The algorithm converges when $x$ gives the minimum value of $f(x)$ and $\\alpha$ is small enough."
   ]
  },
  {
   "cell_type": "code",
   "execution_count": 32,
   "metadata": {},
   "outputs": [],
   "source": [
    "# Create x axis values\n",
    "x = np.linspace(-12,12,100)\n",
    "\n",
    "# String to store Function expression\n",
    "function_str = ''\n",
    "\n",
    "# Get y value    \n",
    "get_y = lambda x : eval(function_str)    "
   ]
  },
  {
   "cell_type": "code",
   "execution_count": 33,
   "metadata": {},
   "outputs": [],
   "source": [
    "# Define the function expression\n",
    "function_str = 'x**2 + 3*x - 21'\n",
    "\n",
    "# Generate y values\n",
    "y = get_y(x)"
   ]
  },
  {
   "cell_type": "code",
   "execution_count": 34,
   "metadata": {},
   "outputs": [],
   "source": [
    "# Calculate Derivative\n",
    "dydx = lambda x : derivative(get_y,x)"
   ]
  },
  {
   "cell_type": "code",
   "execution_count": 35,
   "metadata": {},
   "outputs": [],
   "source": [
    "# STEP 1: Initialize\n",
    "x_initial = 10\n",
    "step_function_initial = 1\n",
    "epsilon = 1e-10\n",
    "max_iter = 50\n",
    "min_x = 0\n",
    "min_y = 0\n",
    "\n",
    "# Function to calculate Gradient Descent\n",
    "def Gradient_Descent():\n",
    "    iter = 0\n",
    "    x_current = x_initial\n",
    "    step_function = step_function_initial\n",
    "    while(True):\n",
    "        # STEP 2 and 3: Calculate Derivative and solve the equation\n",
    "        x_new = x_current - (step_function*dydx(x_current))\n",
    "#         print('Current:',x_current)\n",
    "#         print('New:',x_new)\n",
    "#         print('Difference:',abs(x_current - x_new))\n",
    "        # STEP 4: Check the Condition\n",
    "        if(abs(x_current - x_new) < epsilon):\n",
    "            # STEP 4.1: Return minimum value\n",
    "            return (x_current, step_function)\n",
    "        else:\n",
    "             # STEP 4.2: Check if iteration has reached max_iter \n",
    "            if iter <= max_iter:\n",
    "                # STEP 4.2.1: Update x_current\n",
    "                x_current = x_new\n",
    "                iter = iter + 1\n",
    "            else:\n",
    "                # STEP 4.2.2 Reset iter and decrease step_function\n",
    "                step_function = step_function - 0.01\n",
    "                x_current = x_initial\n",
    "                iter = 0\n",
    "   "
   ]
  },
  {
   "cell_type": "code",
   "execution_count": 36,
   "metadata": {},
   "outputs": [
    {
     "name": "stdout",
     "output_type": "stream",
     "text": [
      "Minimum x = -1.5000000000557716\n",
      "Minimum y = -23.25\n",
      "Optimal Step Function=  0.7999999999999998\n"
     ]
    },
    {
     "data": {
      "text/plain": [
       "<matplotlib.legend.Legend at 0x290fd686f28>"
      ]
     },
     "execution_count": 36,
     "metadata": {},
     "output_type": "execute_result"
    },
    {
     "data": {
      "image/png": "[encoded data removed]",
      "text/plain": [
       "<Figure size 432x288 with 1 Axes>"
      ]
     },
     "metadata": {},
     "output_type": "display_data"
    }
   ],
   "source": [
    "# Calculate Gradient Descent\n",
    "\n",
    "min_x, step_function = Gradient_Descent()\n",
    "min_y = get_y(min_x)\n",
    "print('Minimum x =', min_x)\n",
    "print('Minimum y =', min_y)\n",
    "print('Optimal Step Function= ',step_function)\n",
    "            \n",
    "# Plot\n",
    "%matplotlib inline\n",
    "fig, ax = plt.subplots()\n",
    "plt.rcParams.update({'figure.autolayout': False, 'lines.linewidth':2, 'lines.linestyle':'--', 'text.color': 'g'})\n",
    "ax.set(xlim=[-14,14], xlabel='X', ylabel='Y', title='Gradient Descent')\n",
    "# Plot the function with marker at minimum point\n",
    "ax.plot(x,y, color='r', label=function_str, visible=True)\n",
    "# Plot vertical line plot((x1,x2),(y1,y2))\n",
    "ax.plot((min_x, min_x),(min_y, min_y-20), linestyle = '-')\n",
    "ax.legend()     "
   ]
  },
  {
   "cell_type": "markdown",
   "metadata": {},
   "source": [
    "# Usefulness of Gradient Descent\n",
    "\n",
    "The derivatives of real world equations might be very tediuos to solve for $x$.\n",
    "    - The gradient descent becomes handy in these situation. Instead of solving x, we use gradient descent to ESTIMATE x."
   ]
  }
 ],
 "metadata": {
  "kernelspec": {
   "display_name": "Python 3",
   "language": "python",
   "name": "python3"
  },
  "language_info": {
   "codemirror_mode": {
    "name": "ipython",
    "version": 3
   },
   "file_extension": ".py",
   "mimetype": "text/x-python",
   "name": "python",
   "nbconvert_exporter": "python",
   "pygments_lexer": "ipython3",
   "version": "3.6.4"
  }
 },
 "nbformat": 4,
 "nbformat_minor": 2
}
