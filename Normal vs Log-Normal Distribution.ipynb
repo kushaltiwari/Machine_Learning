{
 "cells": [
  {
   "cell_type": "code",
   "execution_count": 15,
   "metadata": {},
   "outputs": [],
   "source": [
    "import itertools\n",
    "from matplotlib import pyplot as plt\n",
    "from functools import reduce\n",
    "import numpy as np\n",
    "import collections"
   ]
  },
  {
   "cell_type": "markdown",
   "metadata": {},
   "source": [
    "# Normal Distribution\n",
    "\n",
    "The additive nature of Normal Distribution is represented by the event comprising of summation of numbers on two rolled die"
   ]
  },
  {
   "cell_type": "code",
   "execution_count": 16,
   "metadata": {},
   "outputs": [],
   "source": [
    "normal = []\n",
    "\n",
    "# CREATE NORMAL DISTRIBUTION\n",
    "keywords = itertools.product('123456', repeat = 2)\n",
    "for i in keywords:\n",
    "    normal.append(sum(map(int,i)))"
   ]
  },
  {
   "cell_type": "markdown",
   "metadata": {},
   "source": [
    "# Log-Normal Distribution\n",
    "The multiplicative nature of Log- Normal Distribution is represented by the event comprising of multiplication of numbers on two rolled die"
   ]
  },
  {
   "cell_type": "code",
   "execution_count": 17,
   "metadata": {},
   "outputs": [],
   "source": [
    "log_normal = []\n",
    "\n",
    "# CREATE LOG-NORMAL DISTRIBUTION\n",
    "keywords = itertools.product('123456', repeat = 2)\n",
    "for i in keywords:\n",
    "    log_normal.append(reduce(lambda x, y : x*y, map(int,i)))\n",
    "    "
   ]
  },
  {
   "cell_type": "code",
   "execution_count": 18,
   "metadata": {},
   "outputs": [
    {
     "data": {
      "text/plain": [
       "(array([10.,  9.,  6.,  5.,  3.,  2.,  1.]),\n",
       " array([ 1.,  6., 11., 16., 21., 26., 31., 36.]),\n",
       " <a list of 7 Patch objects>)"
      ]
     },
     "execution_count": 18,
     "metadata": {},
     "output_type": "execute_result"
    },
    {
     "data": {
      "image/png": "[encoded data removed]",
      "text/plain": [
       "<Figure size 432x288 with 2 Axes>"
      ]
     },
     "metadata": {},
     "output_type": "display_data"
    }
   ],
   "source": [
    "fig, ax = plt.subplots(2,1)\n",
    "\n",
    "# PLOT\n",
    "ax[0].hist(normal, bins=len(set(normal)), label = 'Normal')   \n",
    "\n",
    "# PLOT\n",
    "ax[1].hist((log_normal), bins=7, label = 'Log-Normal')    "
   ]
  },
  {
   "cell_type": "code",
   "execution_count": 19,
   "metadata": {},
   "outputs": [],
   "source": [
    "# CREATE CUSTOM BINS\n",
    "defdict = collections.defaultdict(list)\n",
    "lins = np.linspace(1, len(log_normal), 7)\n",
    "for index in range(len(lins)):\n",
    "   defdict[lins[index]] = list(filter(lambda x : x <= lins[index] and x > lins[index-1], log_normal))"
   ]
  }
 ],
 "metadata": {
  "kernelspec": {
   "display_name": "Python 3",
   "language": "python",
   "name": "python3"
  },
  "language_info": {
   "codemirror_mode": {
    "name": "ipython",
    "version": 3
   },
   "file_extension": ".py",
   "mimetype": "text/x-python",
   "name": "python",
   "nbconvert_exporter": "python",
   "pygments_lexer": "ipython3",
   "version": "3.6.4"
  }
 },
 "nbformat": 4,
 "nbformat_minor": 2
}
